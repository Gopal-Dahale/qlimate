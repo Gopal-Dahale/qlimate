{
 "cells": [
  {
   "cell_type": "markdown",
   "id": "6323e92c",
   "metadata": {},
   "source": [
    "## Task 1B\n",
    "\n",
    "We here compare the method we used for finding the minium ofthe PES with existing classical methods. We used the Variational Quantum Eigensolver (VQE) in our analysis with hardware-efficient ansatze (HEA). VQE algorithm tries to variationally constrain the upper bound for the ground-state energy of a target molecule. There are chemistry inspired ansatze like UCC, UCCSD etc. that uses singles and doubles excitations within the electronic structure of the molecule. However, the count of gates and depth increases quickly as the molecule becomes complex. Using HEA, we aimed to improve the convergence and deparameterisation helped in accelerating the optimization while retaining the accuracy.\n",
    "\n",
    "The advantage of CCSD solver is that it achieves high level of accuracy (with $10^{-2}$ Ha relative error) in much less time (~5s with frozen orbitals) as compared to VQE for $CO_2 @ Mn(II)$ system. CCSD is well-suited to  modeling systems with weak correlation, where electron-electron interactions can be treated perturbatively. However Ideal VQE takes ~30 seconds (simulation) to reach a relative error within $10^{-2}$ Ha which is at par with CCSD. The advantage of VQE comes from the fact that the same type of HEA can be extended with increasing number of qubits and layers and we can reach the desired level of accuracy. Also the deparameterisation procedure reduces the number of parameters without compromising on the accuracy. \n",
    "\n",
    "CCSD solver has limited scalibility as it scales exponentially with the number of electrons. For example, CCSD calculations for systems with more than 50 electrons can be intractable even on the most powerful classical computers. I realised this while solving for $H_2O @ Cu-MOF-74$ where my disk usage went full (~120 GB disk) and crashed. Limitations of VQE is because the current NISQ has high qubit decoherence and noise restricting the simulations to small molecules.\n",
    "\n",
    "For large molecular systems, we employed DMET, where molecule is broken into interacting fragments and each fragment is solved separately. This approach binds CCSD solver with VQE. The advantage is that VQE can be used to efficiently solve the molecules participating in the reaction and the rest of the fragments can be solved using CCSD solver. \n",
    "\n",
    "A fully classical DMET on the system $CO_2 @ CH_3NH_2$ reaches a relative error within $10^{-3}$ Ha whereas employing a VQE on the $N$ with single layered HEA and 5 iterations of SLSQP optimizer reaches a relative error within $10^{-1}$."
   ]
  }
 ],
 "metadata": {
  "kernelspec": {
   "display_name": "Python (qarbon)",
   "language": "python",
   "name": "qarbon"
  },
  "language_info": {
   "codemirror_mode": {
    "name": "ipython",
    "version": 3
   },
   "file_extension": ".py",
   "mimetype": "text/x-python",
   "name": "python",
   "nbconvert_exporter": "python",
   "pygments_lexer": "ipython3",
   "version": "3.8.1"
  }
 },
 "nbformat": 4,
 "nbformat_minor": 5
}
