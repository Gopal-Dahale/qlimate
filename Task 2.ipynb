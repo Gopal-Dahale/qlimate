{
 "cells": [
  {
   "cell_type": "markdown",
   "id": "fd243f79",
   "metadata": {},
   "source": [
    "# Task 2\n",
    "\n",
    "## Task 2A\n",
    "\n",
    "For scaling the calculation from one binding site to at least one 2D unit cell of the given metal-organic framework family AND from one gas molecule to a larger amount of substance of the gas molecule we propose to use Density Matrix Embedding Theory [1] [2] along with VQE at the binding sites. The steps are as follows:\n",
    "\n",
    "- A Hartree−Fock calculation is performed on a molecule.\n",
    "- The molecule is split into arbitrary groups of atoms as fragments. For each fragment, an embedding is constructed (bath orbitals and H′) and a Hartree−Fock calculation is run on the embedded system.\n",
    "- The system is reassembled by adding up the energies and electrons located on the various fragments.\n",
    "\n",
    "Each fragment is viewed as an open quantum system that is entangled with every other piece, collectively constituting the fragment's environment (or \"bath\"). According to this framework, a highly accurate quantum chemistry approach, such as the complete CI method or a coupled-cluster method, is used to solve the following Hamiltonian to determine the electronic structure of a given fragment.\n",
    "\n",
    "$$\n",
    "H_I = \\sum_{rs}^{frag+bath}\\left[ h_{rs} + \\sum_{mn}[(rs|mn) - (rn|ms)]D_{mn}^{(mf)env}\\right] a_r^{\\dagger}a_s + \\sum_{pqrs}^{frag+bath} (pq|rs) a_p^{\\dagger}a_r^{\\dagger}a_sa_q - \\mu\\sum_r^{frag}a_r^{\\dagger}a_r\n",
    "$$\n",
    "\n",
    "The expression $\\sum_{mn}[(rs|mn) - (rn|ms)]D_{mn}^{(mf)env}$ describes the quantum mechanical effects of the environment on the fragment, where $D_{mn}^{(mf)env}$  is the mean-field electronic density obtained by solving the Hartree–Fock equation. The Hamiltonian's one-particle term incorporates the environmental quantum mechanical effects. By adjusting $\\mu$, the additional term $\\mu\\sum_r^{frag}a_r^{\\dagger}a_r$ makes sure that the system's overall number of electrons and the number of electrons in each of the pieces are equal.\n",
    "\n",
    "DMET stands out among current embedding systems for its durability and simplicity, especially in the face of high coupling and significant correlation, and suggests that it could be helpful in a variety of applications.\n",
    "\n",
    "### DMET for H2O @ Cu-MOF-74\n",
    "\n",
    "We explored the DMET method on $H_2O @ Cu-MOF-74$ using a simple fragmentation strategy. We were able to run the algorithm in a feasible time and compared the results with RHF method. The results are promising and within $10^{-2}$ Ha relative error. In future, we can extend the method to use the quantum computing method for high-accuracy solvers.\n",
    "\n",
    "### Limitations\n",
    "\n",
    "One limitation of this hybrid solution is the computational cost, as DMET calculations can be computationally expensive, especially when applied to larger systems as the paper [1] suggests that the entanglement eﬀect of the\n",
    "environment is fully represented by a bath of the same size as the fragment it is embedding which can be a bottleneck with a larger fragment size. \n",
    "\n",
    "Additionally, the accuracy of the method may depend on the choice of the embedding region, and the selection of the region of interest may require some expertise and intuition. Moreover, classical force field models may not accurately capture the electronic properties of the MOF, and quantum methods may be necessary in this case. \n",
    "\n",
    "Moreover, the hybrid solution proposed here assumes that the MOF is in a rigid state, which may not be true for all MOFs. The MOF may undergo structural changes upon the adsorption of gas molecules, which may affect the adsorption properties.\n",
    "\n",
    "In conclusion, the proposed hybrid solution can be a powerful tool for studying the electronic properties of gas molecules adsorbed on MOFs. However, careful consideration needs to be given to the computational cost and the accuracy of the method, and the limitations of the method should be taken into account when interpreting the results.\n",
    "\n",
    "## Task 2B\n",
    "\n",
    "To implement the proposed hybrid solution on real quantum computers, several requirements need to be met. The DMET method's implementation on quantum computers requires a significant number of qubits. From our implementation of $CO_2 @ CH_3NH_2$, the system required 10 qubits (without tapering) for the Nitrogen atom only. A calculation on a larger fragment will require more qubits. We encountered 40 qubits in our experiments for $Cu(I)$ atom only. This is due to the construction of bath orbitals which the hamiltonian take into account. The current state-of-the-art quantum computers have a limited number of qubits, and scaling up the number of qubits remains a major challenge for quantum computing.\n",
    "\n",
    "Another requirement for implementing the hybrid solution on quantum computers is coherence times. The coherence times of qubits need to be long enough to perform the required quantum operations and avoid errors in the calculations. The coherence times of current quantum computers are still relatively short, and this can limit the accuracy and scalability of the calculations. We can overcome this with Hardware-efficient Ansatze and the deparameterisation technique. The deparameterisation technique allows for the reduction of the $R_y$ gate into a virtual identity gate that does not need to be implemented in practice, thus eliminating any associated quantum gate noise.\n",
    "\n",
    "Given the current state of quantum computing technology, it is difficult to estimate when the proposed hybrid solution will become feasible. However, recent progress in quantum computing, such as the development of quantum error correction codes and the increased availability of high-quality qubits, suggests that significant progress can be made in the next 5-10 years. Furthermore, recent developments in quantum simulation algorithms and techniques, have already demonstrated the potential of quantum computers for quantum chemistry simulations. Therefore, it is likely that the proposed hybrid solution will become feasible within the next decade.\n",
    "\n",
    "## References\n",
    "\n",
    "1. [Density Matrix Embedding: A Strong-Coupling Quantum Embedding Theory Gerald Knizia* and Garnet Kin-Lic Chan](https://pubs.acs.org/doi/10.1021/ct301044e)\n",
    "2. [A Practical Guide to Density Matrix Embedding Theory in Quantum Chemistry Sebastian Wouters*, Carlos A. Jiménez-Hoyos, Qiming Sun, and Garnet K.-L. Chan*](https://pubs.acs.org/doi/10.1021/acs.jctc.6b00316)\n",
    "3. [Molecular Energy Landscapes of Hardware-Efficient Ansätze in Quantum Computing Boy Choy* and David J. Wales](https://pubs.acs.org/doi/pdf/10.1021/acs.jctc.2c01057)"
   ]
  },
  {
   "cell_type": "markdown",
   "id": "f630dd5f",
   "metadata": {},
   "source": [
    "# My Experience and Learnings\n",
    "\n",
    "Overall, the challenge tasks were well-designed and covered a broad range of topics in quantum computing and quantum chemistry. The tasks were challenging and required a strong understanding of both fields, which made the challenge both engaging and educational. Global warming is a serious issue and the challenge has provided candidates with a platform to tackle it.\n",
    "\n",
    "The challenge required me to use research papers as a basis for the tasks and it allowed for a more authentic experience and provided an opportunity to engage with current research in the field. The tasks were also structured in a way that allowed for a step-by-step approach, which helped to break down complex concepts into manageable components. I was able to do a deep dive into quantum chemistry's recent development in the field and the implementation made my concepts clear.\n",
    "\n",
    "In terms of the settings of the challenge, the platform used for submission was user-friendly, and the support provided by the organizers was helpful and responsive. The workshops were engaging and helpful. However, the time constraints for completing the tasks were quite tight, which may have made it challenging for some participants to complete the tasks to the best of their abilities. Also, the hardware requirements can be made more flexible (giving credits to AWS accounts instead of fixed hours). Quantistry was something new for me and a workshop on that would have helped a lot.\n",
    "\n",
    "In conclusion, the challenge provided an excellent opportunity to engage with current research in quantum computing and quantum chemistry and was a valuable learning experience. The tasks were challenging, but also manageable, and the support provided was helpful. Overall, I believe the challenge tasks and settings were well-designed and effectively facilitated learning and engagement with the field."
   ]
  }
 ],
 "metadata": {
  "kernelspec": {
   "display_name": "Python (qarbon)",
   "language": "python",
   "name": "qarbon"
  },
  "language_info": {
   "codemirror_mode": {
    "name": "ipython",
    "version": 3
   },
   "file_extension": ".py",
   "mimetype": "text/x-python",
   "name": "python",
   "nbconvert_exporter": "python",
   "pygments_lexer": "ipython3",
   "version": "3.8.1"
  }
 },
 "nbformat": 4,
 "nbformat_minor": 5
}
