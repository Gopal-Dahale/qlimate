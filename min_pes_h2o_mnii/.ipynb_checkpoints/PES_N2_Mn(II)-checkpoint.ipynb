{
 "cells": [
  {
   "cell_type": "code",
   "execution_count": 1,
   "id": "32113778",
   "metadata": {},
   "outputs": [],
   "source": [
    "import sys\n",
    "sys.path.append('..')"
   ]
  },
  {
   "cell_type": "code",
   "execution_count": 2,
   "id": "91f6627d",
   "metadata": {},
   "outputs": [],
   "source": [
    "import pandas as pd\n",
    "import matplotlib.pyplot as plt\n",
    "import os\n",
    "from utils import construct_problem\n",
    "import numpy as np\n",
    "import time"
   ]
  },
  {
   "cell_type": "code",
   "execution_count": 3,
   "id": "d0969cbe",
   "metadata": {},
   "outputs": [
    {
     "data": {
      "text/html": [
       "<div>\n",
       "<style scoped>\n",
       "    .dataframe tbody tr th:only-of-type {\n",
       "        vertical-align: middle;\n",
       "    }\n",
       "\n",
       "    .dataframe tbody tr th {\n",
       "        vertical-align: top;\n",
       "    }\n",
       "\n",
       "    .dataframe thead th {\n",
       "        text-align: right;\n",
       "    }\n",
       "</style>\n",
       "<table border=\"1\" class=\"dataframe\">\n",
       "  <thead>\n",
       "    <tr style=\"text-align: right;\">\n",
       "      <th></th>\n",
       "      <th>step</th>\n",
       "      <th>root mean square deviation [a0]</th>\n",
       "      <th>HF energy [eV]</th>\n",
       "      <th>MP2 energy [eV]</th>\n",
       "      <th>CCSD energy [eV]</th>\n",
       "    </tr>\n",
       "  </thead>\n",
       "  <tbody>\n",
       "    <tr>\n",
       "      <th>0</th>\n",
       "      <td>0</td>\n",
       "      <td>0.000000</td>\n",
       "      <td>-34229.712666</td>\n",
       "      <td>-34245.290952</td>\n",
       "      <td>-34245.825999</td>\n",
       "    </tr>\n",
       "    <tr>\n",
       "      <th>1</th>\n",
       "      <td>1</td>\n",
       "      <td>0.284618</td>\n",
       "      <td>-34232.916386</td>\n",
       "      <td>-34248.327952</td>\n",
       "      <td>-34248.703858</td>\n",
       "    </tr>\n",
       "    <tr>\n",
       "      <th>2</th>\n",
       "      <td>2</td>\n",
       "      <td>0.569235</td>\n",
       "      <td>-34234.411195</td>\n",
       "      <td>-34249.714771</td>\n",
       "      <td>-34250.006069</td>\n",
       "    </tr>\n",
       "    <tr>\n",
       "      <th>3</th>\n",
       "      <td>3</td>\n",
       "      <td>0.853853</td>\n",
       "      <td>-34235.006180</td>\n",
       "      <td>-34250.207425</td>\n",
       "      <td>-34250.476517</td>\n",
       "    </tr>\n",
       "    <tr>\n",
       "      <th>4</th>\n",
       "      <td>4</td>\n",
       "      <td>1.138470</td>\n",
       "      <td>-34235.150230</td>\n",
       "      <td>-34250.268937</td>\n",
       "      <td>-34250.536472</td>\n",
       "    </tr>\n",
       "    <tr>\n",
       "      <th>5</th>\n",
       "      <td>5</td>\n",
       "      <td>1.423088</td>\n",
       "      <td>-34235.083044</td>\n",
       "      <td>-34250.139442</td>\n",
       "      <td>-34250.408498</td>\n",
       "    </tr>\n",
       "    <tr>\n",
       "      <th>6</th>\n",
       "      <td>6</td>\n",
       "      <td>1.707705</td>\n",
       "      <td>-34234.929182</td>\n",
       "      <td>-34249.936629</td>\n",
       "      <td>-34250.206492</td>\n",
       "    </tr>\n",
       "    <tr>\n",
       "      <th>7</th>\n",
       "      <td>7</td>\n",
       "      <td>1.992323</td>\n",
       "      <td>-34234.751617</td>\n",
       "      <td>-34249.718388</td>\n",
       "      <td>-34249.988190</td>\n",
       "    </tr>\n",
       "    <tr>\n",
       "      <th>8</th>\n",
       "      <td>8</td>\n",
       "      <td>2.276940</td>\n",
       "      <td>-34234.580333</td>\n",
       "      <td>-34249.512400</td>\n",
       "      <td>-34249.781703</td>\n",
       "    </tr>\n",
       "    <tr>\n",
       "      <th>9</th>\n",
       "      <td>9</td>\n",
       "      <td>2.561558</td>\n",
       "      <td>-34234.427763</td>\n",
       "      <td>-34249.330256</td>\n",
       "      <td>-34249.598837</td>\n",
       "    </tr>\n",
       "    <tr>\n",
       "      <th>10</th>\n",
       "      <td>10</td>\n",
       "      <td>2.846175</td>\n",
       "      <td>-34234.297417</td>\n",
       "      <td>-34249.174481</td>\n",
       "      <td>-34249.442436</td>\n",
       "    </tr>\n",
       "    <tr>\n",
       "      <th>11</th>\n",
       "      <td>11</td>\n",
       "      <td>3.130793</td>\n",
       "      <td>-34234.188576</td>\n",
       "      <td>-34249.043533</td>\n",
       "      <td>-34249.310986</td>\n",
       "    </tr>\n",
       "    <tr>\n",
       "      <th>12</th>\n",
       "      <td>12</td>\n",
       "      <td>3.415410</td>\n",
       "      <td>-34234.098732</td>\n",
       "      <td>-34248.934201</td>\n",
       "      <td>-34249.201348</td>\n",
       "    </tr>\n",
       "    <tr>\n",
       "      <th>13</th>\n",
       "      <td>13</td>\n",
       "      <td>3.700028</td>\n",
       "      <td>-34234.024835</td>\n",
       "      <td>-34248.843143</td>\n",
       "      <td>-34249.110191</td>\n",
       "    </tr>\n",
       "    <tr>\n",
       "      <th>14</th>\n",
       "      <td>14</td>\n",
       "      <td>3.984645</td>\n",
       "      <td>-34233.963940</td>\n",
       "      <td>-34248.767361</td>\n",
       "      <td>-34249.034491</td>\n",
       "    </tr>\n",
       "    <tr>\n",
       "      <th>15</th>\n",
       "      <td>15</td>\n",
       "      <td>4.269263</td>\n",
       "      <td>-34233.913512</td>\n",
       "      <td>-34248.704268</td>\n",
       "      <td>-34248.971635</td>\n",
       "    </tr>\n",
       "    <tr>\n",
       "      <th>16</th>\n",
       "      <td>16</td>\n",
       "      <td>4.553881</td>\n",
       "      <td>-34233.871510</td>\n",
       "      <td>-34248.651708</td>\n",
       "      <td>-34248.919415</td>\n",
       "    </tr>\n",
       "    <tr>\n",
       "      <th>17</th>\n",
       "      <td>17</td>\n",
       "      <td>4.838498</td>\n",
       "      <td>-34233.836350</td>\n",
       "      <td>-34248.607875</td>\n",
       "      <td>-34248.875984</td>\n",
       "    </tr>\n",
       "    <tr>\n",
       "      <th>18</th>\n",
       "      <td>18</td>\n",
       "      <td>5.123116</td>\n",
       "      <td>-34233.806799</td>\n",
       "      <td>-34248.571244</td>\n",
       "      <td>-34248.839787</td>\n",
       "    </tr>\n",
       "    <tr>\n",
       "      <th>19</th>\n",
       "      <td>19</td>\n",
       "      <td>5.407733</td>\n",
       "      <td>-34233.781872</td>\n",
       "      <td>-34248.540532</td>\n",
       "      <td>-34248.809515</td>\n",
       "    </tr>\n",
       "    <tr>\n",
       "      <th>20</th>\n",
       "      <td>20</td>\n",
       "      <td>5.692351</td>\n",
       "      <td>-34233.760765</td>\n",
       "      <td>-34248.514647</td>\n",
       "      <td>-34248.784064</td>\n",
       "    </tr>\n",
       "    <tr>\n",
       "      <th>21</th>\n",
       "      <td>21</td>\n",
       "      <td>5.976968</td>\n",
       "      <td>-34233.742814</td>\n",
       "      <td>-34248.492699</td>\n",
       "      <td>-34248.762532</td>\n",
       "    </tr>\n",
       "    <tr>\n",
       "      <th>22</th>\n",
       "      <td>22</td>\n",
       "      <td>6.261586</td>\n",
       "      <td>-34233.727474</td>\n",
       "      <td>-34248.473969</td>\n",
       "      <td>-34248.744197</td>\n",
       "    </tr>\n",
       "    <tr>\n",
       "      <th>23</th>\n",
       "      <td>23</td>\n",
       "      <td>6.546203</td>\n",
       "      <td>-34233.714305</td>\n",
       "      <td>-34248.457907</td>\n",
       "      <td>-34248.728497</td>\n",
       "    </tr>\n",
       "  </tbody>\n",
       "</table>\n",
       "</div>"
      ],
      "text/plain": [
       "    step  root mean square deviation [a0]  HF energy [eV]  MP2 energy [eV]  \\\n",
       "0      0                         0.000000   -34229.712666    -34245.290952   \n",
       "1      1                         0.284618   -34232.916386    -34248.327952   \n",
       "2      2                         0.569235   -34234.411195    -34249.714771   \n",
       "3      3                         0.853853   -34235.006180    -34250.207425   \n",
       "4      4                         1.138470   -34235.150230    -34250.268937   \n",
       "5      5                         1.423088   -34235.083044    -34250.139442   \n",
       "6      6                         1.707705   -34234.929182    -34249.936629   \n",
       "7      7                         1.992323   -34234.751617    -34249.718388   \n",
       "8      8                         2.276940   -34234.580333    -34249.512400   \n",
       "9      9                         2.561558   -34234.427763    -34249.330256   \n",
       "10    10                         2.846175   -34234.297417    -34249.174481   \n",
       "11    11                         3.130793   -34234.188576    -34249.043533   \n",
       "12    12                         3.415410   -34234.098732    -34248.934201   \n",
       "13    13                         3.700028   -34234.024835    -34248.843143   \n",
       "14    14                         3.984645   -34233.963940    -34248.767361   \n",
       "15    15                         4.269263   -34233.913512    -34248.704268   \n",
       "16    16                         4.553881   -34233.871510    -34248.651708   \n",
       "17    17                         4.838498   -34233.836350    -34248.607875   \n",
       "18    18                         5.123116   -34233.806799    -34248.571244   \n",
       "19    19                         5.407733   -34233.781872    -34248.540532   \n",
       "20    20                         5.692351   -34233.760765    -34248.514647   \n",
       "21    21                         5.976968   -34233.742814    -34248.492699   \n",
       "22    22                         6.261586   -34233.727474    -34248.473969   \n",
       "23    23                         6.546203   -34233.714305    -34248.457907   \n",
       "\n",
       "    CCSD energy [eV]  \n",
       "0      -34245.825999  \n",
       "1      -34248.703858  \n",
       "2      -34250.006069  \n",
       "3      -34250.476517  \n",
       "4      -34250.536472  \n",
       "5      -34250.408498  \n",
       "6      -34250.206492  \n",
       "7      -34249.988190  \n",
       "8      -34249.781703  \n",
       "9      -34249.598837  \n",
       "10     -34249.442436  \n",
       "11     -34249.310986  \n",
       "12     -34249.201348  \n",
       "13     -34249.110191  \n",
       "14     -34249.034491  \n",
       "15     -34248.971635  \n",
       "16     -34248.919415  \n",
       "17     -34248.875984  \n",
       "18     -34248.839787  \n",
       "19     -34248.809515  \n",
       "20     -34248.784064  \n",
       "21     -34248.762532  \n",
       "22     -34248.744197  \n",
       "23     -34248.728497  "
      ]
     },
     "execution_count": 3,
     "metadata": {},
     "output_type": "execute_result"
    }
   ],
   "source": [
    "ccsd_ref_dir = 'CCSD_Reference_Potential_Energy_Curve'\n",
    "df = pd.read_csv(f\"{ccsd_ref_dir}/ccsd_reference_potential_energy_curve.csv\")\n",
    "df"
   ]
  },
  {
   "cell_type": "code",
   "execution_count": 4,
   "id": "c9836619",
   "metadata": {},
   "outputs": [
    {
     "data": {
      "image/png": "[encoded data removed]",
      "text/plain": [
       "<Figure size 640x480 with 1 Axes>"
      ]
     },
     "metadata": {},
     "output_type": "display_data"
    }
   ],
   "source": [
    "atomic_distance = df[df.keys()[1]]\n",
    "hf_energy = df[df.keys()[2]]\n",
    "mp2_energy = df[df.keys()[3]]\n",
    "ccsd_energy = df[df.keys()[4]]\n",
    "\n",
    "plt.plot(atomic_distance, hf_energy, label=\"HF energy\")\n",
    "plt.plot(atomic_distance, mp2_energy, label=\"MP2 energy\")\n",
    "plt.plot(atomic_distance, ccsd_energy, label=\"CCSD energy\")\n",
    "plt.xlabel('Atomic distance (Angstrom)')\n",
    "plt.ylabel('Energy')\n",
    "plt.legend()\n",
    "plt.show()"
   ]
  },
  {
   "cell_type": "code",
   "execution_count": 5,
   "id": "d928a70c",
   "metadata": {},
   "outputs": [
    {
     "data": {
      "image/png": "[encoded data removed]",
      "text/plain": [
       "<Figure size 640x480 with 1 Axes>"
      ]
     },
     "metadata": {},
     "output_type": "display_data"
    }
   ],
   "source": [
    "plt.plot(atomic_distance, mp2_energy, label=\"MP2 energy\")\n",
    "plt.plot(atomic_distance, ccsd_energy, label=\"CCSD energy\")\n",
    "plt.xlabel('Atomic distance (Angstrom)')\n",
    "plt.ylabel('Energy')\n",
    "plt.legend()\n",
    "plt.show()"
   ]
  },
  {
   "cell_type": "code",
   "execution_count": 6,
   "id": "60210189",
   "metadata": {},
   "outputs": [],
   "source": [
    "steps = os.listdir(ccsd_ref_dir)\n",
    "steps = sorted([name for name in steps if 'step' in name ])\n",
    "\n",
    "geometries = []\n",
    "\n",
    "for file_name in steps:\n",
    "    geometry = \"\"\n",
    "    with open(f\"{ccsd_ref_dir}/{file_name}\") as f:\n",
    "        lines = f.readlines()[2:]\n",
    "        for line in lines:\n",
    "            values = line.split()\n",
    "            geometry += f\"{values[0]} {values[1]} {values[2]} {values[3]} ;\"\n",
    "    geometries.append(geometry)"
   ]
  },
  {
   "cell_type": "code",
   "execution_count": 7,
   "id": "2893abb3",
   "metadata": {},
   "outputs": [
    {
     "data": {
      "text/plain": [
       "24"
      ]
     },
     "execution_count": 7,
     "metadata": {},
     "output_type": "execute_result"
    }
   ],
   "source": [
    "len(geometries)"
   ]
  },
  {
   "cell_type": "code",
   "execution_count": 17,
   "id": "26cc8aeb",
   "metadata": {},
   "outputs": [],
   "source": [
    "S = 5*0.5\n",
    "charge = 2\n",
    "basis = \"ccpvdz\"\n",
    "num_electrons = None\n",
    "num_spatial_orbitals = 4 # encodes eight spin orbitals\n",
    "mapper_type = 'ParityMapper'\n",
    "z2symmetry_reduction = None\n",
    "ev = 27.2114"
   ]
  },
  {
   "cell_type": "code",
   "execution_count": 18,
   "id": "807cabf5",
   "metadata": {},
   "outputs": [],
   "source": [
    "problem_data = {\n",
    "    'problem': [],\n",
    "    'converter':[],\n",
    "    'qubit_op':[],\n",
    "    'res_actual': []\n",
    "}"
   ]
  },
  {
   "cell_type": "code",
   "execution_count": 19,
   "id": "4be2c2ed",
   "metadata": {},
   "outputs": [
    {
     "name": "stdout",
     "output_type": "stream",
     "text": [
      "step 0\n",
      "step 1\n",
      "step 2\n",
      "step 3\n",
      "step 4\n",
      "step 5\n",
      "step 6\n",
      "step 7\n",
      "step 8\n",
      "step 9\n",
      "step 10\n",
      "step 11\n",
      "step 12\n",
      "step 13\n",
      "step 14\n",
      "step 15\n",
      "step 16\n",
      "step 17\n",
      "step 18\n",
      "step 19\n",
      "step 20\n",
      "step 21\n",
      "step 22\n",
      "step 23\n",
      "Duration: 430.2748029232025\n"
     ]
    }
   ],
   "source": [
    "start = time.time()\n",
    "for index, molecule in enumerate(geometries):\n",
    "    print(f\"step {index}\")\n",
    "    problem_reduced, converter, qubit_op, res_actual = construct_problem( molecule, \n",
    "                                                                      charge, \n",
    "                                                                      S, \n",
    "                                                                      basis, \n",
    "                                                                      mapper_type,\n",
    "                                                                      num_spatial_orbitals,\n",
    "                                                                      num_electrons, \n",
    "                                                                      z2symmetry_reduction=z2symmetry_reduction)\n",
    "    problem_data['problem'].append(problem_reduced)\n",
    "    problem_data['converter'].append(converter)\n",
    "    problem_data['qubit_op'].append(qubit_op)\n",
    "    problem_data['res_actual'].append(res_actual)\n",
    "    \n",
    "end = time.time()\n",
    "print('Duration:', end - start)"
   ]
  },
  {
   "cell_type": "code",
   "execution_count": 35,
   "id": "ef5782c2",
   "metadata": {},
   "outputs": [],
   "source": [
    "# import pickle\n",
    "\n",
    "# with open('problems.pickle', 'wb') as handle:\n",
    "#     pickle.dump(problem_data, handle, protocol=pickle.HIGHEST_PROTOCOL)\n",
    "\n",
    "# with open('problems.pickle', 'rb') as handle:\n",
    "#     b = pickle.load(handle)"
   ]
  },
  {
   "cell_type": "code",
   "execution_count": 36,
   "id": "679c275c",
   "metadata": {},
   "outputs": [],
   "source": [
    "eigen_solver_energy = [result.total_energies[0]*ev for result in problem_data['res_actual']]"
   ]
  },
  {
   "cell_type": "code",
   "execution_count": 37,
   "id": "45377bd4",
   "metadata": {},
   "outputs": [
    {
     "data": {
      "image/png": "[encoded data removed]",
      "text/plain": [
       "<Figure size 640x480 with 1 Axes>"
      ]
     },
     "metadata": {},
     "output_type": "display_data"
    }
   ],
   "source": [
    "# plt.plot(atomic_distance, mp2_energy, label=\"MP2 energy\")\n",
    "# plt.plot(atomic_distance, ccsd_energy, label=\"CCSD energy\")\n",
    "x = 15\n",
    "plt.plot(atomic_distance[:x], eigen_solver_energy[:x], label=\"EigenSolver energy\")\n",
    "plt.xlabel('Atomic distance (Angstrom)')\n",
    "plt.ylabel('Energy')\n",
    "plt.legend()\n",
    "plt.show()"
   ]
  },
  {
   "cell_type": "code",
   "execution_count": 38,
   "id": "49e6566a",
   "metadata": {},
   "outputs": [],
   "source": [
    "from qiskit_nature.second_q.circuit.library import HartreeFock"
   ]
  },
  {
   "cell_type": "code",
   "execution_count": 39,
   "id": "b256bb0e",
   "metadata": {},
   "outputs": [],
   "source": [
    "basis_states = []"
   ]
  },
  {
   "cell_type": "code",
   "execution_count": 40,
   "id": "fd186ac7",
   "metadata": {
    "scrolled": false
   },
   "outputs": [
    {
     "name": "stderr",
     "output_type": "stream",
     "text": [
      "/tmp/ipykernel_44201/1762706602.py:12: DeprecationWarning: Back-references to from Bit instances to their containing Registers have been deprecated. Instead, inspect Registers to find their contained Bits.\n",
      "  state[j[1][0].index] = 1\n"
     ]
    }
   ],
   "source": [
    "# Hartree focks state\n",
    "for i in range(24):\n",
    "    num_particles = problem_data['problem'][i].num_particles\n",
    "    num_spatial_orbitals = problem_data['problem'][i].num_spatial_orbitals\n",
    "\n",
    "    init_state = HartreeFock(num_spatial_orbitals=num_spatial_orbitals,\n",
    "                             num_particles=num_particles,\n",
    "                             qubit_converter=problem_data['converter'][i])\n",
    "    \n",
    "    state = np.zeros(problem_data['qubit_op'][i].num_qubits)\n",
    "    for j in init_state.data:\n",
    "        state[j[1][0].index] = 1\n",
    "    basis_states.append(state)"
   ]
  },
  {
   "cell_type": "code",
   "execution_count": 41,
   "id": "69b19f92",
   "metadata": {},
   "outputs": [],
   "source": [
    "hamiltonians = []\n",
    "\n",
    "for i in range(24):\n",
    "    qubit_op = problem_data['qubit_op'][i]\n",
    "    \n",
    "    H = {\n",
    "        'coeffs': [],\n",
    "        'ops': []\n",
    "    }\n",
    "    \n",
    "    for op in qubit_op:\n",
    "        pauli_string = op.primitive.paulis[0]\n",
    "        pauli_string = pauli_string.__str__()\n",
    "\n",
    "        pauli_coeff = op.primitive.coeffs[0]\n",
    "        H['ops'].append(pauli_string)\n",
    "        H['coeffs'].append(pauli_coeff)\n",
    "\n",
    "    hamiltonians.append(H.copy())"
   ]
  },
  {
   "cell_type": "code",
   "execution_count": 42,
   "id": "7ae57cb4",
   "metadata": {},
   "outputs": [],
   "source": [
    "# import pickle\n",
    "\n",
    "# with open('hamiltonians.pickle', 'wb') as handle:\n",
    "#     pickle.dump(hamiltonians, handle, protocol=pickle.HIGHEST_PROTOCOL)"
   ]
  },
  {
   "cell_type": "code",
   "execution_count": null,
   "id": "f5b9ba50",
   "metadata": {},
   "outputs": [],
   "source": [
    "import pennylane as qml\n",
    "import pennylane.numpy as np"
   ]
  },
  {
   "cell_type": "code",
   "execution_count": null,
   "id": "bc76078a",
   "metadata": {},
   "outputs": [],
   "source": [
    "Hamiltonians = []\n",
    "\n",
    "for h_dict in hamiltonians:\n",
    "    ops = []\n",
    "    for op in h_dict['ops']:\n",
    "        ops.append(qml.pauli.string_to_pauli_word(op))\n",
    "\n",
    "    coeffs = []\n",
    "    for coeff in h_dict['coeffs']:\n",
    "        coeffs.append(coeff)\n",
    "    \n",
    "    Hamiltonians.append(qml.Hamiltonian(coeffs, ops))"
   ]
  },
  {
   "cell_type": "code",
   "execution_count": null,
   "id": "aaca3580",
   "metadata": {},
   "outputs": [],
   "source": [
    "for i in Hamiltonians:\n",
    "    print(len(i.wires),len(i.ops))"
   ]
  },
  {
   "cell_type": "code",
   "execution_count": null,
   "id": "c1191814",
   "metadata": {},
   "outputs": [],
   "source": [
    "temp = Hamiltonians[0]"
   ]
  },
  {
   "cell_type": "code",
   "execution_count": null,
   "id": "64042581",
   "metadata": {},
   "outputs": [],
   "source": [
    "temp.compute_grouping()"
   ]
  },
  {
   "cell_type": "code",
   "execution_count": null,
   "id": "9acf1386",
   "metadata": {},
   "outputs": [],
   "source": [
    "len(temp.ops)"
   ]
  },
  {
   "cell_type": "code",
   "execution_count": null,
   "id": "1d33ac96",
   "metadata": {},
   "outputs": [],
   "source": [
    "dev1 = [qml.device(\"default.qubit\", wires = Hamiltonians[i].wires ) for i in range(8)]\n",
    "devs = dev1 + dev2"
   ]
  },
  {
   "cell_type": "code",
   "execution_count": null,
   "id": "10c72d99",
   "metadata": {},
   "outputs": [],
   "source": []
  }
 ],
 "metadata": {
  "kernelspec": {
   "display_name": "Python (qarbon)",
   "language": "python",
   "name": "qarbon"
  },
  "language_info": {
   "codemirror_mode": {
    "name": "ipython",
    "version": 3
   },
   "file_extension": ".py",
   "mimetype": "text/x-python",
   "name": "python",
   "nbconvert_exporter": "python",
   "pygments_lexer": "ipython3",
   "version": "3.8.1"
  }
 },
 "nbformat": 4,
 "nbformat_minor": 5
}
