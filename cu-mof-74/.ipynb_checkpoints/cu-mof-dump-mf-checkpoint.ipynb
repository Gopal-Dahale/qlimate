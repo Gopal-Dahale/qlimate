{
 "cells": [
  {
   "cell_type": "code",
   "execution_count": 1,
   "id": "42c97cca",
   "metadata": {},
   "outputs": [],
   "source": [
    "import sys\n",
    "sys.path.append('..')"
   ]
  },
  {
   "cell_type": "code",
   "execution_count": 2,
   "id": "24bdc817",
   "metadata": {},
   "outputs": [],
   "source": [
    "import numpy as np\n",
    "import py3Dmol\n",
    "from dmet.dmet_problem_decomposition_single import DMETProblemDecompositionSingle\n",
    "from dmet.meta_lowdin_localization import meta_lowdin_localization\n",
    "from dmet.ccsd_solver import CCSDSolver\n",
    "from pyscf import gto\n",
    "from utils import rel_err\n",
    "import pickle\n",
    "from pyscf import scf\n",
    "import matplotlib.pyplot as plt\n",
    "import pandas as pd\n",
    "import time"
   ]
  },
  {
   "cell_type": "code",
   "execution_count": 3,
   "id": "f22ba0a8",
   "metadata": {},
   "outputs": [],
   "source": [
    "symbols = []\n",
    "coordinates = []\n",
    "\n",
    "file = 'cu-mof74-co2.xyz'\n",
    "with open(file, encoding ='utf-8') as f:\n",
    "    for line in f.readlines()[2:]:\n",
    "        symbol, x, y, z, _ = line.split()\n",
    "        symbols.append(symbol)\n",
    "        coordinates.append(float(x))\n",
    "        coordinates.append(float(y))\n",
    "        coordinates.append(float(z))"
   ]
  },
  {
   "cell_type": "code",
   "execution_count": 4,
   "id": "11aa0e34",
   "metadata": {},
   "outputs": [
    {
     "data": {
      "text/html": [
       "<div>\n",
       "<style scoped>\n",
       "    .dataframe tbody tr th:only-of-type {\n",
       "        vertical-align: middle;\n",
       "    }\n",
       "\n",
       "    .dataframe tbody tr th {\n",
       "        vertical-align: top;\n",
       "    }\n",
       "\n",
       "    .dataframe thead th {\n",
       "        text-align: right;\n",
       "    }\n",
       "</style>\n",
       "<table border=\"1\" class=\"dataframe\">\n",
       "  <thead>\n",
       "    <tr style=\"text-align: right;\">\n",
       "      <th></th>\n",
       "      <th>step</th>\n",
       "      <th>root mean square deviation [a0]</th>\n",
       "      <th>relative energy [eV]</th>\n",
       "    </tr>\n",
       "  </thead>\n",
       "  <tbody>\n",
       "    <tr>\n",
       "      <th>0</th>\n",
       "      <td>0</td>\n",
       "      <td>0.000000</td>\n",
       "      <td>0.000000</td>\n",
       "    </tr>\n",
       "    <tr>\n",
       "      <th>1</th>\n",
       "      <td>1</td>\n",
       "      <td>1.262482</td>\n",
       "      <td>-1.011183</td>\n",
       "    </tr>\n",
       "    <tr>\n",
       "      <th>2</th>\n",
       "      <td>2</td>\n",
       "      <td>2.524964</td>\n",
       "      <td>-1.342804</td>\n",
       "    </tr>\n",
       "    <tr>\n",
       "      <th>3</th>\n",
       "      <td>3</td>\n",
       "      <td>3.787446</td>\n",
       "      <td>-1.391849</td>\n",
       "    </tr>\n",
       "    <tr>\n",
       "      <th>4</th>\n",
       "      <td>4</td>\n",
       "      <td>5.049928</td>\n",
       "      <td>-1.345527</td>\n",
       "    </tr>\n",
       "    <tr>\n",
       "      <th>5</th>\n",
       "      <td>5</td>\n",
       "      <td>6.312410</td>\n",
       "      <td>-1.283588</td>\n",
       "    </tr>\n",
       "    <tr>\n",
       "      <th>6</th>\n",
       "      <td>6</td>\n",
       "      <td>7.574892</td>\n",
       "      <td>-1.219282</td>\n",
       "    </tr>\n",
       "    <tr>\n",
       "      <th>7</th>\n",
       "      <td>7</td>\n",
       "      <td>8.837374</td>\n",
       "      <td>-1.173577</td>\n",
       "    </tr>\n",
       "    <tr>\n",
       "      <th>8</th>\n",
       "      <td>8</td>\n",
       "      <td>10.099857</td>\n",
       "      <td>-1.126368</td>\n",
       "    </tr>\n",
       "    <tr>\n",
       "      <th>9</th>\n",
       "      <td>9</td>\n",
       "      <td>11.362339</td>\n",
       "      <td>-1.096293</td>\n",
       "    </tr>\n",
       "    <tr>\n",
       "      <th>10</th>\n",
       "      <td>10</td>\n",
       "      <td>12.624821</td>\n",
       "      <td>-1.091425</td>\n",
       "    </tr>\n",
       "    <tr>\n",
       "      <th>11</th>\n",
       "      <td>11</td>\n",
       "      <td>13.887303</td>\n",
       "      <td>-1.078650</td>\n",
       "    </tr>\n",
       "    <tr>\n",
       "      <th>12</th>\n",
       "      <td>12</td>\n",
       "      <td>15.149785</td>\n",
       "      <td>-1.076922</td>\n",
       "    </tr>\n",
       "    <tr>\n",
       "      <th>13</th>\n",
       "      <td>13</td>\n",
       "      <td>16.412267</td>\n",
       "      <td>-1.083890</td>\n",
       "    </tr>\n",
       "    <tr>\n",
       "      <th>14</th>\n",
       "      <td>14</td>\n",
       "      <td>17.674749</td>\n",
       "      <td>-1.088374</td>\n",
       "    </tr>\n",
       "  </tbody>\n",
       "</table>\n",
       "</div>"
      ],
      "text/plain": [
       "    step  root mean square deviation [a0]  relative energy [eV]\n",
       "0      0                         0.000000              0.000000\n",
       "1      1                         1.262482             -1.011183\n",
       "2      2                         2.524964             -1.342804\n",
       "3      3                         3.787446             -1.391849\n",
       "4      4                         5.049928             -1.345527\n",
       "5      5                         6.312410             -1.283588\n",
       "6      6                         7.574892             -1.219282\n",
       "7      7                         8.837374             -1.173577\n",
       "8      8                        10.099857             -1.126368\n",
       "9      9                        11.362339             -1.096293\n",
       "10    10                        12.624821             -1.091425\n",
       "11    11                        13.887303             -1.078650\n",
       "12    12                        15.149785             -1.076922\n",
       "13    13                        16.412267             -1.083890\n",
       "14    14                        17.674749             -1.088374"
      ]
     },
     "execution_count": 4,
     "metadata": {},
     "output_type": "execute_result"
    }
   ],
   "source": [
    "df = pd.read_csv('reaction_path_cu_mof74_co2.csv')\n",
    "df"
   ]
  },
  {
   "cell_type": "code",
   "execution_count": 5,
   "id": "d0be7666",
   "metadata": {},
   "outputs": [
    {
     "data": {
      "image/png": "[encoded data removed]",
      "text/plain": [
       "<Figure size 640x480 with 1 Axes>"
      ]
     },
     "metadata": {},
     "output_type": "display_data"
    }
   ],
   "source": [
    "atomic_distance = df[df.keys()[1]]\n",
    "relative_energy = df[df.keys()[2]]\n",
    "\n",
    "plt.plot(atomic_distance, relative_energy, label=\"relative energy\")\n",
    "plt.xlabel('Atomic distance (Angstrom)')\n",
    "plt.ylabel('Energy')\n",
    "plt.legend()\n",
    "plt.show()"
   ]
  },
  {
   "cell_type": "code",
   "execution_count": 6,
   "id": "93e98048",
   "metadata": {},
   "outputs": [],
   "source": [
    "geometry = \"\"\n",
    "for index, symbol in enumerate(symbols):\n",
    "    geometry += f\"{symbol} {coordinates[3*index]} {coordinates[3*index+1]} {coordinates[3*index+2]} ; \"\n",
    "geometry = geometry[:-2]"
   ]
  },
  {
   "cell_type": "code",
   "execution_count": 7,
   "id": "b1b79570",
   "metadata": {},
   "outputs": [
    {
     "name": "stdout",
     "output_type": "stream",
     "text": [
      "0 Cu 0.09581158 2.970344 3.0858134 \n",
      "1  Mg 2.10344791 4.35684216 9.95622385 \n",
      "2  Mg 4.75431144 4.90446244 2.20921205 \n",
      "3  Mg -2.3794203 2.60780569 10.68977609 \n",
      "4  Mg 2.33905463 3.46787267 1.14302688 \n",
      "5  Mg -0.13352715 4.11593036 11.84640307 \n",
      "6  H 2.36157026 -0.1358453 0.83500181 \n",
      "7  H -0.1270491 7.58786433 12.28460115 \n",
      "8  H 0.16527845 4.46948208 6.19607965 \n",
      "9  H 2.13173075 3.05736864 6.70541287 \n",
      "10  H -0.01714597 8.28252096 0.45128747 \n",
      "11  H 2.3669126 -0.73358787 12.49843085 \n",
      "12  C 5.87939548 1.05756011 0.498615 \n",
      "13  C -3.63838305 6.40628847 12.60004266 \n",
      "14  C -1.37424294 3.86941207 7.59210582 \n",
      "15  C 3.6641566 3.68025019 5.30600632 \n",
      "16  C 1.48941243 6.73539381 0.61388271 \n",
      "17  C 0.85359449 0.8099487 12.31291912 \n",
      "18  C 0.52783164 1.00954131 0.94739166 \n",
      "19  C 1.72106974 6.46242343 12.13772651 \n",
      "20  C -1.67826607 4.08244599 5.1368133 \n",
      "21  C 3.97995353 3.45151513 7.76242161 \n",
      "22  C 2.85415903 6.35254386 0.36163784 \n",
      "23  C -0.5078353 1.18908989 12.57812954 \n",
      "24  C 1.31241815 -0.07060522 0.49226324 \n",
      "25  C 0.92428482 7.52052887 12.62173402 \n",
      "26  C -0.88769733 4.15341133 6.30603509 \n",
      "27  C 3.18617727 3.37068441 6.59504566 \n",
      "28  C 1.03303345 8.01194421 0.23721627 \n",
      "29  C 1.31984731 -0.46009523 12.72214033 \n",
      "30  C 4.90542671 2.10817601 0.90341589 \n",
      "31  C -2.67055896 5.35945607 12.18518805 \n",
      "32  C 2.67661685 3.57536952 4.18882209 \n",
      "33  C -0.42056507 4.0589538 8.71393517 \n",
      "34  C 0.46628554 5.81912967 1.19252102 \n",
      "35  C 1.80967148 1.68027173 11.59089796 \n",
      "36  O 5.2014863 2.90248804 1.90089205 \n",
      "37  O -3.01163401 4.52327495 11.23785533 \n",
      "38  O 2.96049658 4.11334117 3.03560757 \n",
      "39  O -0.78355001 3.69566714 9.91467318 \n",
      "40  O 0.63361093 4.53403816 1.12709841 \n",
      "41  O 1.45757143 2.90910849 11.29488612 \n",
      "42  O 3.77784753 2.23296288 0.31031997 \n",
      "43  O -1.51727738 5.29945016 12.73742128 \n",
      "44  O 1.5706226 2.96648403 4.41174943 \n",
      "45  O 0.73382061 4.5656864 8.48454819 \n",
      "46  O -0.60772905 6.31986225 1.69581228 \n",
      "47  O 2.96733145 1.23676366 11.26450649 \n",
      "48  O 1.13724045 1.92575297 1.73670662 \n",
      "49  O 1.1618548 5.5655154 11.28385401 \n",
      "50  O -1.07540722 4.3954066 3.97164972 \n",
      "51  O 3.41268257 3.1468094 8.95742856 \n",
      "52  O 3.38408435 5.15264809 0.71352576 \n",
      "53  O -1.06590027 2.37591789 12.21113079 \n",
      "54  O -0.88167152 0.92533012 4.33152965 \n",
      "55  C -1.36098382 -0.12201284 4.62672424 \n",
      "56  O -1.82814108 -1.16781203 4.92825019 \n"
     ]
    }
   ],
   "source": [
    "for i, j in enumerate(geometry.split(';')):\n",
    "    print(i, j)"
   ]
  },
  {
   "cell_type": "code",
   "execution_count": 8,
   "id": "24e6eb78",
   "metadata": {},
   "outputs": [
    {
     "data": {
      "text/plain": [
       "57"
      ]
     },
     "execution_count": 8,
     "metadata": {},
     "output_type": "execute_result"
    }
   ],
   "source": [
    "len(symbols)"
   ]
  },
  {
   "cell_type": "code",
   "execution_count": 12,
   "id": "bf923e09",
   "metadata": {},
   "outputs": [
    {
     "data": {
      "text/plain": [
       "<pyscf.gto.mole.Mole at 0x7fd504726910>"
      ]
     },
     "execution_count": 12,
     "metadata": {},
     "output_type": "execute_result"
    }
   ],
   "source": [
    "mol = gto.Mole() # Instantiate the molecule class in PySCF\n",
    "mol.atom = geometry\n",
    "mol.basis = \"dzp\" # Use \"minao\" as the basis set\n",
    "mol.charge = 0 # Assign the charge of the molecule\n",
    "mol.spin = 1  # Assign the spin of the molecule\n",
    "mol.build() # Build the molecule object"
   ]
  },
  {
   "cell_type": "code",
   "execution_count": 13,
   "id": "694cb357",
   "metadata": {},
   "outputs": [
    {
     "name": "stdout",
     "output_type": "stream",
     "text": [
      "Duration: 3752.685304880142\n"
     ]
    }
   ],
   "source": [
    "s = time.time()\n",
    "mean_field = scf.RHF(mol)\n",
    "mean_field.chkfile = 'cu_mof74_chkfile'\n",
    "mean_field.verbose = 0\n",
    "mean_field.scf()\n",
    "e = time.time()\n",
    "print(\"Duration:\", e-s)"
   ]
  },
  {
   "cell_type": "code",
   "execution_count": 22,
   "id": "bf0a9531",
   "metadata": {},
   "outputs": [],
   "source": [
    "mf_dict = mean_field.__dict__.copy()\n",
    "\n",
    "del mf_dict['_chkfile']\n",
    "del mf_dict['mol']\n",
    "del mf_dict['stdout']\n",
    "del mf_dict['opt']"
   ]
  },
  {
   "cell_type": "code",
   "execution_count": 23,
   "id": "f6c84ba6",
   "metadata": {},
   "outputs": [],
   "source": [
    "with open('mf_cu_mof74.pickle', 'wb') as handle:\n",
    "    pickle.dump(mf_dict, handle, protocol=pickle.HIGHEST_PROTOCOL)"
   ]
  },
  {
   "cell_type": "code",
   "execution_count": 70,
   "id": "e6d8dca7",
   "metadata": {},
   "outputs": [],
   "source": []
  },
  {
   "cell_type": "code",
   "execution_count": null,
   "id": "9a2bfedf",
   "metadata": {},
   "outputs": [],
   "source": []
  }
 ],
 "metadata": {
  "kernelspec": {
   "display_name": "Python (qarbon)",
   "language": "python",
   "name": "qarbon"
  },
  "language_info": {
   "codemirror_mode": {
    "name": "ipython",
    "version": 3
   },
   "file_extension": ".py",
   "mimetype": "text/x-python",
   "name": "python",
   "nbconvert_exporter": "python",
   "pygments_lexer": "ipython3",
   "version": "3.8.1"
  }
 },
 "nbformat": 4,
 "nbformat_minor": 5
}
