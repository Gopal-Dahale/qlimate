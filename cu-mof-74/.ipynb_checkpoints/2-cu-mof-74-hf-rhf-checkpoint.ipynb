{
 "cells": [
  {
   "cell_type": "code",
   "execution_count": 1,
   "id": "42c97cca",
   "metadata": {},
   "outputs": [],
   "source": [
    "import sys\n",
    "sys.path.append('..')"
   ]
  },
  {
   "cell_type": "code",
   "execution_count": 2,
   "id": "24bdc817",
   "metadata": {},
   "outputs": [],
   "source": [
    "import numpy as np\n",
    "import py3Dmol\n",
    "from dmet.dmet_problem_decomposition_single import DMETProblemDecompositionSingle\n",
    "from dmet.meta_lowdin_localization import meta_lowdin_localization\n",
    "from dmet.ccsd_solver import CCSDSolver\n",
    "from pyscf import gto\n",
    "from utils import rel_err\n",
    "import pickle\n",
    "from pyscf import scf\n",
    "import matplotlib.pyplot as plt\n",
    "import pandas as pd\n",
    "import time"
   ]
  },
  {
   "cell_type": "code",
   "execution_count": 12,
   "id": "f22ba0a8",
   "metadata": {},
   "outputs": [],
   "source": [
    "symbols = []\n",
    "coordinates = []\n",
    "\n",
    "file = 'cu-mof74-h2o.xyz'\n",
    "with open(file, encoding ='utf-8') as f:\n",
    "    for line in f.readlines()[2:]:\n",
    "        symbol, x, y, z, _ = line.split()\n",
    "        symbols.append(symbol)\n",
    "        coordinates.append(float(x))\n",
    "        coordinates.append(float(y))\n",
    "        coordinates.append(float(z))"
   ]
  },
  {
   "cell_type": "code",
   "execution_count": 13,
   "id": "93e98048",
   "metadata": {},
   "outputs": [],
   "source": [
    "geometry = \"\"\n",
    "for index, symbol in enumerate(symbols):\n",
    "    geometry += f\"{symbol} {coordinates[3*index]} {coordinates[3*index+1]} {coordinates[3*index+2]} ; \"\n",
    "geometry = geometry[:-2]"
   ]
  },
  {
   "cell_type": "code",
   "execution_count": 14,
   "id": "b1b79570",
   "metadata": {},
   "outputs": [
    {
     "data": {
      "text/plain": [
       "'Cu 0.05033917 2.8950158 3.09316041 ; H -1.90488736 1.63572698 4.7203535 ; O -1.40151681 1.24589039 3.96234193 ; H -1.02296789 0.41555443 4.33033117 ; Mg 2.10073752 4.35951009 9.93744675 ; Mg 4.75529817 4.91186968 2.18929815 ; Mg -2.38118808 2.61665623 10.69016152 ; Mg 2.3284059 3.46840696 1.14056334 ; Mg -0.13400514 4.13331338 11.8344551 ; H 2.34965049 -0.12315283 0.81738382 ; H -0.13026902 7.5984989 12.24149511 ; H 0.14832424 4.45801951 6.18637226 ; H 2.12136951 3.02017799 6.69980208 ; H -0.01574471 8.30331089 0.44687104 ; H 2.36694014 -0.71904433 12.49615912 ; C 5.86909309 1.07219866 0.4588129 ; C -3.64431934 6.41684944 12.57249031 ; C -1.38715448 3.85237208 7.58233733 ; C 3.65108472 3.65628224 5.29977876 ; C 1.48645793 6.75696455 0.60072476 ; C 0.85585748 0.82862013 12.30674108 ; C 0.51572294 1.01907917 0.91814677 ; C 1.71772416 6.47305557 12.10771419 ; C -1.69452486 4.06975189 5.12705128 ; C 3.96938465 3.42635423 7.75732522 ; C 2.8504647 6.36981965 0.35291547 ; C -0.50512469 1.21114478 12.57260901 ; C 1.30324925 -0.05895561 0.46554956 ; C 0.91910427 7.5333592 12.58484218 ; C -0.90336775 4.13952117 6.29638865 ; C 3.1755026 3.33741611 6.5911137 ; C 1.03348581 8.03347191 0.22885307 ; C 1.31932522 -0.44409677 12.71423784 ; C 4.89474147 2.12882077 0.84934377 ; C -2.67535885 5.37210311 12.16179823 ; C 2.66425816 3.56110022 4.17781135 ; C -0.42734635 4.04924301 8.70068412 ; C 0.46781294 5.83151525 1.17271175 ; C 1.81591182 1.69654839 11.59031705 ; O 5.23168535 2.97004591 1.78552779 ; O -3.00571515 4.54321653 11.20267512 ; O 2.96212058 4.09582409 3.02935461 ; O -0.7793673 3.68356138 9.90314975 ; O 0.64300774 4.55275381 1.08459002 ; O 1.47300802 2.93018074 11.30332905 ; O 3.7449997 2.21630697 0.28920844 ; O -1.5283673 5.30345472 12.72752878 ; O 1.55478032 2.95962691 4.40142165 ; O 0.72250815 4.56416407 8.46461754 ; O -0.60513782 6.32357057 1.69104479 ; O 2.97005775 1.2454481 11.26081645 ; O 1.12429734 1.92235974 1.72424221 ; O 1.15726781 5.57446989 11.25682899 ; O -1.09981586 4.37309201 3.958535 ; O 3.40552849 3.12324079 8.95443365 ; O 3.36984253 5.17015127 0.71595641 ; O -1.06320068 2.39859827 12.20603726 '"
      ]
     },
     "execution_count": 14,
     "metadata": {},
     "output_type": "execute_result"
    }
   ],
   "source": [
    "temp_g = geometry.split(';')\n",
    "copper = temp_g.pop(0)\n",
    "temp_g.insert(-3, copper)\n",
    "temp_g = temp_g[-4:] + temp_g[:-4]\n",
    "geometry = ';'.join(temp_g)\n",
    "geometry"
   ]
  },
  {
   "cell_type": "code",
   "execution_count": 15,
   "id": "24e6eb78",
   "metadata": {},
   "outputs": [
    {
     "data": {
      "text/plain": [
       "57"
      ]
     },
     "execution_count": 15,
     "metadata": {},
     "output_type": "execute_result"
    }
   ],
   "source": [
    "len(symbols)"
   ]
  },
  {
   "cell_type": "code",
   "execution_count": 16,
   "id": "bf923e09",
   "metadata": {},
   "outputs": [
    {
     "data": {
      "text/plain": [
       "<pyscf.gto.mole.Mole at 0x7f6cf6885cd0>"
      ]
     },
     "execution_count": 16,
     "metadata": {},
     "output_type": "execute_result"
    }
   ],
   "source": [
    "mol = gto.Mole() # Instantiate the molecule class in PySCF\n",
    "mol.atom = geometry\n",
    "mol.basis = \"sto-3g\" # Use \"minao\" as the basis set\n",
    "mol.charge = 1 # Assign the charge of the molecule\n",
    "mol.spin = 0  # Assign the spin of the molecule\n",
    "mol.build() # Build the molecule object"
   ]
  },
  {
   "cell_type": "code",
   "execution_count": 17,
   "id": "694cb357",
   "metadata": {},
   "outputs": [
    {
     "name": "stdout",
     "output_type": "stream",
     "text": [
      "Duration: 542.2644681930542\n"
     ]
    }
   ],
   "source": [
    "s = time.time()\n",
    "mean_field = scf.RHF(mol)\n",
    "mean_field.verbose = 0\n",
    "mean_field.scf()\n",
    "e = time.time()\n",
    "print(\"Duration:\", e-s)"
   ]
  },
  {
   "cell_type": "code",
   "execution_count": 30,
   "id": "da051e6a",
   "metadata": {},
   "outputs": [
    {
     "data": {
      "text/plain": [
       "False"
      ]
     },
     "execution_count": 30,
     "metadata": {},
     "output_type": "execute_result"
    }
   ],
   "source": [
    "mean_field.converged"
   ]
  },
  {
   "cell_type": "code",
   "execution_count": 23,
   "id": "204d5419",
   "metadata": {},
   "outputs": [
    {
     "data": {
      "text/plain": [
       "-4909.639091397706"
      ]
     },
     "execution_count": 23,
     "metadata": {},
     "output_type": "execute_result"
    }
   ],
   "source": [
    "mean_field.e_tot"
   ]
  },
  {
   "cell_type": "code",
   "execution_count": 27,
   "id": "9a2bfedf",
   "metadata": {},
   "outputs": [
    {
     "name": "stdout",
     "output_type": "stream",
     "text": [
      "Duration: 538.7613756656647\n"
     ]
    }
   ],
   "source": [
    "s = time.time()\n",
    "mean_field_hf = scf.HF(mol)\n",
    "mean_field_hf.verbose = 0\n",
    "mean_field_hf.scf()\n",
    "e = time.time()\n",
    "print(\"Duration:\", e-s)"
   ]
  },
  {
   "cell_type": "code",
   "execution_count": 28,
   "id": "ae105637",
   "metadata": {},
   "outputs": [
    {
     "data": {
      "text/plain": [
       "False"
      ]
     },
     "execution_count": 28,
     "metadata": {},
     "output_type": "execute_result"
    }
   ],
   "source": [
    "mean_field_hf.converged"
   ]
  },
  {
   "cell_type": "code",
   "execution_count": 29,
   "id": "7bef04fe",
   "metadata": {},
   "outputs": [
    {
     "data": {
      "text/plain": [
       "-4909.639090862013"
      ]
     },
     "execution_count": 29,
     "metadata": {},
     "output_type": "execute_result"
    }
   ],
   "source": [
    "mean_field_hf.e_tot"
   ]
  },
  {
   "cell_type": "code",
   "execution_count": null,
   "id": "01620b0f",
   "metadata": {},
   "outputs": [],
   "source": []
  }
 ],
 "metadata": {
  "kernelspec": {
   "display_name": "Python (qarbon)",
   "language": "python",
   "name": "qarbon"
  },
  "language_info": {
   "codemirror_mode": {
    "name": "ipython",
    "version": 3
   },
   "file_extension": ".py",
   "mimetype": "text/x-python",
   "name": "python",
   "nbconvert_exporter": "python",
   "pygments_lexer": "ipython3",
   "version": "3.8.1"
  }
 },
 "nbformat": 4,
 "nbformat_minor": 5
}
