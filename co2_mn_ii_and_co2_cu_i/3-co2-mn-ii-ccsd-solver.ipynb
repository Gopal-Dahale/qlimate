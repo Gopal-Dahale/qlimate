{
 "cells": [
  {
   "cell_type": "code",
   "execution_count": 1,
   "id": "4b356fe4",
   "metadata": {},
   "outputs": [],
   "source": [
    "import sys\n",
    "sys.path.append('..')"
   ]
  },
  {
   "cell_type": "code",
   "execution_count": 2,
   "id": "5e11d8ef",
   "metadata": {},
   "outputs": [],
   "source": [
    "import numpy as np\n",
    "from dmet.ccsd_solver import CCSDSolver\n",
    "import time\n",
    "from pyscf import gto\n",
    "from utils import rel_err\n",
    "import os, psutil"
   ]
  },
  {
   "cell_type": "code",
   "execution_count": 3,
   "id": "a1486411",
   "metadata": {},
   "outputs": [
    {
     "data": {
      "text/plain": [
       "'C 0.0 0.0 0.0 ; O -1.1692727739924489 0.0 0.0 ; O 1.1692727739924502 0.0 0.0 ; Mn 2.1552167739924504 0.0 0.0'"
      ]
     },
     "execution_count": 3,
     "metadata": {},
     "output_type": "execute_result"
    }
   ],
   "source": [
    "co2 =  [[\"C\", np.array([17.0000, 10.0000, 0.0000 ])],\n",
    "        [\"O\", np.array([18.0221, 10.5679, 0.0000 ])],\n",
    "        [\"O\", np.array([15.9779, 9.4321, 0.0000  ])]] \n",
    "\n",
    "# Normalize CO2\n",
    "d_co1 = np.linalg.norm(co2[0][1] - co2[1][1])\n",
    "d_co2 = np.linalg.norm(co2[0][1] - co2[2][1])\n",
    "\n",
    "ev = 27.2114\n",
    "min_dist = 0.985944\n",
    "\n",
    "CO2 = f\"C 0.0 0.0 0.0 ; O -{d_co1} 0.0 0.0 ; O {d_co2} 0.0 0.0\"\n",
    "Mn = f\"Mn {d_co2 + min_dist} 0.0 0.0\"\n",
    "geometry = f\"{CO2} ; {Mn}\"\n",
    "\n",
    "geometry"
   ]
  },
  {
   "cell_type": "code",
   "execution_count": 4,
   "id": "60aed62d",
   "metadata": {},
   "outputs": [
    {
     "data": {
      "text/plain": [
       "<pyscf.gto.mole.Mole at 0x7fc028752d90>"
      ]
     },
     "execution_count": 4,
     "metadata": {},
     "output_type": "execute_result"
    }
   ],
   "source": [
    "mol = gto.Mole() # Instantiate the molecule class in PySCF\n",
    "mol.atom = geometry\n",
    "mol.basis = \"ccpvdz\" # Use \"minao\" as the basis set\n",
    "mol.charge = 2 # Assign the charge of the molecule\n",
    "mol.spin = 5  # Assign the spin of the molecule\n",
    "mol.build() # Build the molecule object"
   ]
  },
  {
   "cell_type": "code",
   "execution_count": 5,
   "id": "d9c458c6",
   "metadata": {},
   "outputs": [],
   "source": [
    "freezer = []\n",
    "isum = 0\n",
    "isum2 = -1\n",
    "\n",
    "itemp = 0\n",
    "isum2 += 4\n",
    "\n",
    "for total_basis in mol.spheric_labels():\n",
    "    item = total_basis.split()\n",
    "    item0 = int(item[0])\n",
    "    if ( ( item0 >= isum ) and ( item0 <= isum2 ) ):\n",
    "        orbital = int(item[2][0])\n",
    "        shell = item[2][1]\n",
    "\n",
    "        if (item[1] == 'C') or (item[1] == 'O'):\n",
    "            if orbital != 2:\n",
    "                freezer.append(itemp)\n",
    "        elif item[1] == 'Mg':\n",
    "            if orbital != 3:\n",
    "                freezer.append(itemp)\n",
    "            if shell != 's':\n",
    "                freezer.append(itemp)\n",
    "        elif item[1] == 'Cu':\n",
    "            if (orbital != 3) and (orbital != 4):\n",
    "                freezer.append(itemp)\n",
    "            if (orbital == 4) and shell != 's':\n",
    "                freezer.append(itemp)\n",
    "        itemp+=1"
   ]
  },
  {
   "cell_type": "code",
   "execution_count": 6,
   "id": "912efcbd",
   "metadata": {},
   "outputs": [
    {
     "data": {
      "text/plain": [
       "30"
      ]
     },
     "execution_count": 6,
     "metadata": {},
     "output_type": "execute_result"
    }
   ],
   "source": [
    "len(freezer)"
   ]
  },
  {
   "cell_type": "code",
   "execution_count": 7,
   "id": "72879823",
   "metadata": {},
   "outputs": [],
   "source": [
    "actual_energy = -36397.363860"
   ]
  },
  {
   "cell_type": "markdown",
   "id": "cddcae1d",
   "metadata": {},
   "source": [
    "## Frozen orbitals"
   ]
  },
  {
   "cell_type": "code",
   "execution_count": 8,
   "id": "06e8f494",
   "metadata": {},
   "outputs": [],
   "source": [
    "initial_mem = psutil.Process(os.getpid()).memory_info().rss"
   ]
  },
  {
   "cell_type": "code",
   "execution_count": 9,
   "id": "d3c93549",
   "metadata": {},
   "outputs": [
    {
     "name": "stdout",
     "output_type": "stream",
     "text": [
      "Number of orbitals:  85\n",
      "Frozen orbitals:  [0, 2, 6, 7, 8, 9, 10, 11, 12, 13, 14, 16, 20, 21, 22, 23, 24, 25, 26, 27, 28, 30, 34, 35, 36, 37, 38, 39, 40, 41]\n",
      "CCSD time:  2.3209068775177\n",
      "Duration: 4.9778501987457275\n",
      "-1335.2170529652988\n"
     ]
    }
   ],
   "source": [
    "ccsd_solver = CCSDSolver()\n",
    "\n",
    "s = time.time()\n",
    "energy = ccsd_solver.simulate(mol, frozen = freezer)\n",
    "e = time.time()\n",
    "print('Duration:', e - s)\n",
    "print(energy)"
   ]
  },
  {
   "cell_type": "code",
   "execution_count": 10,
   "id": "dea4ad50",
   "metadata": {},
   "outputs": [
    {
     "data": {
      "text/plain": [
       "116760576"
      ]
     },
     "execution_count": 10,
     "metadata": {},
     "output_type": "execute_result"
    }
   ],
   "source": [
    "final_mem = psutil.Process(os.getpid()).memory_info().rss\n",
    "final_mem - initial_mem"
   ]
  },
  {
   "cell_type": "code",
   "execution_count": 11,
   "id": "16d7a51a",
   "metadata": {},
   "outputs": [
    {
     "name": "stdout",
     "output_type": "stream",
     "text": [
      "Actual total energy: -36397.363859999998 Ha\n",
      "\n",
      "Total energy: -1335.217052965299 Ha\n",
      "Total energy ev: -36333.125315059930 ev\n",
      "Relative error: 0.001764923009\n"
     ]
    }
   ],
   "source": [
    "total_energy = energy\n",
    "print(f'Actual total energy: {actual_energy:.12f} Ha\\n')\n",
    "print(f\"Total energy: {total_energy:.12f} Ha\")\n",
    "print(f\"Total energy ev: {total_energy*ev:.12f} ev\")\n",
    "\n",
    "rel_error = rel_err(actual_energy, total_energy*ev)\n",
    "print(f'Relative error: {rel_error:.12f}')"
   ]
  },
  {
   "cell_type": "markdown",
   "id": "2aa191e3",
   "metadata": {},
   "source": [
    "## No frozen orbitals"
   ]
  },
  {
   "cell_type": "code",
   "execution_count": 12,
   "id": "be368c02",
   "metadata": {},
   "outputs": [],
   "source": [
    "initial_mem = psutil.Process(os.getpid()).memory_info().rss"
   ]
  },
  {
   "cell_type": "code",
   "execution_count": 13,
   "id": "6089c459",
   "metadata": {},
   "outputs": [
    {
     "name": "stdout",
     "output_type": "stream",
     "text": [
      "Number of orbitals:  85\n",
      "Frozen orbitals:  0\n",
      "CCSD time:  80.13259768486023\n",
      "Duration: 82.89638328552246\n",
      "-1336.1850464982776\n"
     ]
    }
   ],
   "source": [
    "ccsd_solver = CCSDSolver()\n",
    "\n",
    "s = time.time()\n",
    "energy = ccsd_solver.simulate(mol)\n",
    "e = time.time()\n",
    "print('Duration:', e - s)\n",
    "print(energy)"
   ]
  },
  {
   "cell_type": "code",
   "execution_count": 14,
   "id": "c261b03a",
   "metadata": {},
   "outputs": [
    {
     "data": {
      "text/plain": [
       "315662336"
      ]
     },
     "execution_count": 14,
     "metadata": {},
     "output_type": "execute_result"
    }
   ],
   "source": [
    "final_mem = psutil.Process(os.getpid()).memory_info().rss\n",
    "final_mem - initial_mem"
   ]
  },
  {
   "cell_type": "code",
   "execution_count": 15,
   "id": "c3513701",
   "metadata": {},
   "outputs": [
    {
     "name": "stdout",
     "output_type": "stream",
     "text": [
      "Actual total energy: -36397.363859999998 Ha\n",
      "\n",
      "Total energy: -1336.185046498278 Ha\n",
      "Total energy ev: -36359.465774283235 ev\n",
      "Relative error: 0.001041231608\n"
     ]
    }
   ],
   "source": [
    "total_energy = energy\n",
    "print(f'Actual total energy: {actual_energy:.12f} Ha\\n')\n",
    "print(f\"Total energy: {total_energy:.12f} Ha\")\n",
    "print(f\"Total energy ev: {total_energy*ev:.12f} ev\")\n",
    "\n",
    "rel_error = rel_err(actual_energy, total_energy*ev)\n",
    "print(f'Relative error: {rel_error:.12f}')"
   ]
  }
 ],
 "metadata": {
  "kernelspec": {
   "display_name": "Python (qarbon)",
   "language": "python",
   "name": "qarbon"
  },
  "language_info": {
   "codemirror_mode": {
    "name": "ipython",
    "version": 3
   },
   "file_extension": ".py",
   "mimetype": "text/x-python",
   "name": "python",
   "nbconvert_exporter": "python",
   "pygments_lexer": "ipython3",
   "version": "3.8.1"
  }
 },
 "nbformat": 4,
 "nbformat_minor": 5
}
